{
 "cells": [
  {
   "cell_type": "code",
   "execution_count": 1,
   "metadata": {},
   "outputs": [],
   "source": [
    "import numpy as np\n",
    "import matplotlib.pyplot as plt\n",
    "import math, copy\n",
    "plt.style.use('./deeplearning.mplstyle')\n",
    "from lab_utils_uni import plt_house_x, plt_contour_wgrad, plt_divergence, plt_gradients\n"
   ]
  },
  {
   "cell_type": "code",
   "execution_count": 18,
   "metadata": {},
   "outputs": [],
   "source": [
    "x_train = np.array([1.0, 2.0])  # features, input // size of the house in square meters\n",
    "y_train = np.array([300.0, 500.0])  # labels, output // price of the house in 1000s of dollars"
   ]
  },
  {
   "cell_type": "code",
   "execution_count": null,
   "metadata": {},
   "outputs": [],
   "source": [
    "def compute_cost(x,y,w,b):\n",
    "    cost_sum = 0\n",
    "    m = len(x)\n",
    "    for i in range(m):\n",
    "        fwb = w * x[i] + b\n",
    "        cost = ( fwb-y[i] )**2\n",
    "        cost_sum = cost_sum+cost\n",
    "    return cost_sum/(2 * m)"
   ]
  },
  {
   "cell_type": "code",
   "execution_count": null,
   "metadata": {},
   "outputs": [
    {
     "ename": "NameError",
     "evalue": "name 'm' is not defined",
     "output_type": "error",
     "traceback": [
      "\u001b[0;31m---------------------------------------------------------------------------\u001b[0m",
      "\u001b[0;31mNameError\u001b[0m                                 Traceback (most recent call last)",
      "Cell \u001b[0;32mIn[17], line 14\u001b[0m\n\u001b[1;32m     12\u001b[0m     dj_db \u001b[38;5;241m=\u001b[39m dj_db \u001b[38;5;241m/\u001b[39m m\n\u001b[1;32m     13\u001b[0m     \u001b[38;5;28;01mreturn\u001b[39;00m dj_dw, dj_db\n\u001b[0;32m---> 14\u001b[0m \u001b[38;5;28mlen\u001b[39m(\u001b[43mm\u001b[49m)\n",
      "\u001b[0;31mNameError\u001b[0m: name 'm' is not defined"
     ]
    }
   ],
   "source": [
    "def compute_gradient(x,y,w,b):\n",
    "    m = len(x)\n",
    "    dj_dw = 0\n",
    "    dj_db = 0\n",
    "    for i in range(m):\n",
    "        fwb = w * x[i] + b\n",
    "        dj_dw_i = ( fwb - y[i] ) * x[i]\n",
    "        dj_db_i = fwb - y[i]\n",
    "        dj_dw = dj_dw + dj_dw_i\n",
    "        dj_db = dj_db + dj_db_i\n",
    "    dj_dw = dj_dw / m\n",
    "    dj_db = dj_db / m\n",
    "    return dj_dw, dj_db\n"
   ]
  },
  {
   "cell_type": "code",
   "execution_count": null,
   "metadata": {},
   "outputs": [],
   "source": []
  },
  {
   "cell_type": "code",
   "execution_count": null,
   "metadata": {},
   "outputs": [],
   "source": [
    "# gradient descent \n",
    "\n",
    "# w  = w -  alpha * dj_dw\n",
    "# b = b - alpha * dj_db\n",
    "\n",
    "\n",
    "def gradient_descend(x, y, initial_w, initial_b, alpha, iterations, gradient_function):\n",
    "\n",
    "    w = initial_w\n",
    "    b = initial_b\n",
    "    for i in range(iterations):\n",
    "        # Calculate the gradient and update the parameters using the gradient function\n",
    "        dj_dw, dj_db = gradient_function(x,y,w,b)\n",
    "        w = w - ( alpha * dj_dw )\n",
    "        b = b - ( alpha * dj_db )\n",
    "    return w,b\n"
   ]
  },
  {
   "cell_type": "code",
   "execution_count": 21,
   "metadata": {},
   "outputs": [
    {
     "name": "stdout",
     "output_type": "stream",
     "text": [
      "199.99285075131766\n",
      "100.011567727362\n"
     ]
    }
   ],
   "source": [
    "initial_w  = 0\n",
    "initial_b = 0\n",
    "iterations  = 10000\n",
    "alpha = 0.01\n",
    "\n",
    "w_final, b_final = gradient_descend( x_train,y_train,initial_w,initial_b,alpha, iterations,compute_gradient)\n",
    "\n",
    "print(w_final)\n",
    "print(b_final)"
   ]
  }
 ],
 "metadata": {
  "kernelspec": {
   "display_name": "mp1_env",
   "language": "python",
   "name": "python3"
  },
  "language_info": {
   "codemirror_mode": {
    "name": "ipython",
    "version": 3
   },
   "file_extension": ".py",
   "mimetype": "text/x-python",
   "name": "python",
   "nbconvert_exporter": "python",
   "pygments_lexer": "ipython3",
   "version": "3.12.3"
  }
 },
 "nbformat": 4,
 "nbformat_minor": 2
}
