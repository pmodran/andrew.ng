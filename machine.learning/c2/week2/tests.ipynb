{
 "cells": [
  {
   "cell_type": "code",
   "execution_count": 7,
   "metadata": {},
   "outputs": [
    {
     "name": "stdout",
     "output_type": "stream",
     "text": [
      " 0.000200000000000000\n",
      " 0.000199999999999978\n",
      " 1.000099999999999989\n",
      " 0.999900000000000011\n"
     ]
    }
   ],
   "source": [
    "x1 = 2.0 /10000\n",
    "\n",
    "print(f\"{x1: .18f}\")\n",
    "\n",
    "x2  = 1 + (1/10000) - (1 - 1/10000)\n",
    "\n",
    "print(f\"{x2: .18f}\")\n",
    "\n",
    "x3 = 1 + (1/10000)\n",
    "x4  = 1 - (1/10000)\n",
    "print(f\"{x3: .18f}\")\n",
    "print(f\"{x4: .18f}\")"
   ]
  }
 ],
 "metadata": {
  "kernelspec": {
   "display_name": "mp1_env",
   "language": "python",
   "name": "python3"
  },
  "language_info": {
   "codemirror_mode": {
    "name": "ipython",
    "version": 3
   },
   "file_extension": ".py",
   "mimetype": "text/x-python",
   "name": "python",
   "nbconvert_exporter": "python",
   "pygments_lexer": "ipython3",
   "version": "3.12.3"
  }
 },
 "nbformat": 4,
 "nbformat_minor": 2
}
