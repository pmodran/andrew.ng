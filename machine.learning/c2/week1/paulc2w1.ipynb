{
 "cells": [
  {
   "cell_type": "code",
   "execution_count": 48,
   "metadata": {},
   "outputs": [],
   "source": [
    "import numpy as np \n",
    "import matplotlib.pyplot as plt\n",
    "import tensorflow as tf\n",
    "from tensorflow.keras.layers import Dense, Input\n",
    "from tensorflow.keras import Sequential\n",
    "from tensorflow.keras.losses import MeanSquaredError, BinaryCrossentropy\n",
    "from tensorflow.keras.activations import sigmoid\n",
    "from lab_utils_common import dlc\n",
    "from lab_neurons_utils import plt_prob_1d, sigmoidnp, plt_linear, plt_logistic\n",
    "plt.style.use('./deeplearning.mplstyle')\n",
    "import logging\n",
    "logging.getLogger('tensorflow').setLevel(logging.ERROR)\n",
    "tf.autograph.set_verbosity(0)"
   ]
  },
  {
   "cell_type": "code",
   "execution_count": 64,
   "metadata": {},
   "outputs": [
    {
     "data": {
      "text/plain": [
       "Text(0, 0.5, 'Pret in 1000 EUR')"
      ]
     },
     "execution_count": 64,
     "metadata": {},
     "output_type": "execute_result"
    },
    {
     "data": {
      "image/png": "[encoded data removed]",
      "text/plain": [
       "<Figure size 500x500 with 1 Axes>"
      ]
     },
     "metadata": {},
     "output_type": "display_data"
    }
   ],
   "source": [
    "X_train = np.array([[1.0], [2.0]], dtype=np.float32)\n",
    "Y_train = np.array([[300], [500]] , dtype=np.float32)\n",
    "\n",
    "\n",
    "fig, ax = plt.subplots(1, 1, figsize=(5, 5))\n",
    "ax.scatter(X_train, Y_train, color='red', marker='x', label='Data points')\n",
    "ax.set_xlabel('Dimensiune in 10.000 m2')\n",
    "ax.set_ylabel('Pret in 1000 EUR')"
   ]
  },
  {
   "cell_type": "code",
   "execution_count": 65,
   "metadata": {},
   "outputs": [
    {
     "name": "stdout",
     "output_type": "stream",
     "text": [
      "<Dense name=dense_28, built=False>\n"
     ]
    }
   ],
   "source": [
    "linear_layer = Dense(units=1, activation='linear')\n",
    "print(linear_layer)"
   ]
  },
  {
   "cell_type": "code",
   "execution_count": 66,
   "metadata": {},
   "outputs": [
    {
     "name": "stdout",
     "output_type": "stream",
     "text": [
      "tf.Tensor([[1.11]], shape=(1, 1), dtype=float32)\n"
     ]
    }
   ],
   "source": [
    "a1 = linear_layer(X_train[0].reshape(1,1))\n",
    "print(a1)"
   ]
  },
  {
   "cell_type": "code",
   "execution_count": 67,
   "metadata": {},
   "outputs": [
    {
     "name": "stdout",
     "output_type": "stream",
     "text": [
      "w=[[1.11]], b=[0.]\n"
     ]
    }
   ],
   "source": [
    "w , b = linear_layer.get_weights()\n",
    "print(f'w={w}, b={b}')"
   ]
  },
  {
   "cell_type": "code",
   "execution_count": 68,
   "metadata": {},
   "outputs": [
    {
     "name": "stdout",
     "output_type": "stream",
     "text": [
      "[array([[200.]], dtype=float32), array([100.], dtype=float32)]\n"
     ]
    }
   ],
   "source": [
    "#making our own weights\n",
    "\n",
    "set_w = np.array([[200]])\n",
    "set_b = np.array([100])\n",
    "\n",
    "linear_layer.set_weights([set_w,set_b])\n",
    "print(linear_layer.get_weights())"
   ]
  },
  {
   "cell_type": "code",
   "execution_count": 69,
   "metadata": {},
   "outputs": [
    {
     "name": "stdout",
     "output_type": "stream",
     "text": [
      "tf.Tensor([[300.]], shape=(1, 1), dtype=float32)\n",
      "[[300.]]\n"
     ]
    }
   ],
   "source": [
    "a1 = linear_layer(X_train[0].reshape(1,1))\n",
    "print(a1)\n",
    "alin = np.dot(set_w,X_train[0].reshape(1,1)) + set_b\n",
    "print(alin)\n",
    "\n",
    "\n",
    "#they will produce the same values !!!!"
   ]
  },
  {
   "cell_type": "code",
   "execution_count": 70,
   "metadata": {},
   "outputs": [],
   "source": [
    "prediction_tf = linear_layer(X_train)\n",
    "prediction_np = np.dot(X_train, set_w) + set_b"
   ]
  },
  {
   "cell_type": "code",
   "execution_count": 97,
   "metadata": {},
   "outputs": [
    {
     "name": "stdout",
     "output_type": "stream",
     "text": [
      "---------P-------\n",
      "(1,)\n",
      "1\n",
      "---------PP-------\n",
      "(1,)\n",
      "[1]\n",
      "---------PP1-------\n",
      "(3,)\n",
      "[1 3 4]\n",
      "---------PP2-------\n",
      "(3, 1)\n",
      "[[100]\n",
      " [200]\n",
      " [300]]\n",
      "---------PP3-------\n",
      "(1,)\n",
      "[100]\n",
      "---------PP4-------\n",
      "(1, 1)\n",
      "[[100]]\n",
      "---------PP5-------\n",
      "(1,)\n",
      "[1]\n"
     ]
    }
   ],
   "source": [
    "p = np.array(1) # nr. scalar\n",
    "pp = np.array([1]) # array cu 1 element\n",
    "pp1 = np.array([1,3,4])  # matrice de 3x1\n",
    "pp2 = np.array([[100],[200],[300]]) # array vertical, matrix cu o coloana, asa arata X_train si Y_train\n",
    "pp3 = pp2[0] # array\n",
    "#dif dintre pp3 si pp4 este ca pp4 este o matrice se 1x1 si pp3 este un array\n",
    "pp4 = pp2[0].reshape(1,1) # matrice de 1x1\n",
    "pp5 = np.array([1])\n",
    "print('---------P-------')\n",
    "print(pp.shape)\n",
    "print(p)\n",
    "print('---------PP-------')\n",
    "print(pp.shape)\n",
    "print(pp)\n",
    "print('---------PP1-------')\n",
    "print(pp1.shape)\n",
    "print(pp1)\n",
    "print('---------PP2-------')\n",
    "print(pp2.shape)\n",
    "print(pp2)\n",
    "print('---------PP3-------')\n",
    "print(pp3.shape)\n",
    "print(pp3)\n",
    "print('---------PP4-------')\n",
    "print(pp4.shape)\n",
    "print(pp4)\n",
    "print('---------PP5-------')\n",
    "print(pp5.shape)\n",
    "print(pp5)"
   ]
  }
 ],
 "metadata": {
  "kernelspec": {
   "display_name": "mp1_env",
   "language": "python",
   "name": "python3"
  },
  "language_info": {
   "codemirror_mode": {
    "name": "ipython",
    "version": 3
   },
   "file_extension": ".py",
   "mimetype": "text/x-python",
   "name": "python",
   "nbconvert_exporter": "python",
   "pygments_lexer": "ipython3",
   "version": "3.12.3"
  }
 },
 "nbformat": 4,
 "nbformat_minor": 2
}
