{
 "cells": [
  {
   "cell_type": "code",
   "execution_count": 1,
   "metadata": {},
   "outputs": [],
   "source": [
    "import numpy as np\n"
   ]
  },
  {
   "cell_type": "code",
   "execution_count": 4,
   "metadata": {},
   "outputs": [
    {
     "name": "stdout",
     "output_type": "stream",
     "text": [
      "[[2104    5    1   45]\n",
      " [1416    3    2   40]\n",
      " [ 852    2    1   35]]\n",
      "[460 232 178]\n"
     ]
    }
   ],
   "source": [
    "X_train = np.array([[2104,5,1,45],\n",
    "                   [1416,3,2,40],\n",
    "                   [852,2,1,35]])\n",
    "y_train = np.array([460,232,178])\n",
    "print(X_train)\n",
    "print(y_train)"
   ]
  },
  {
   "cell_type": "markdown",
   "metadata": {},
   "source": []
  },
  {
   "cell_type": "code",
   "execution_count": 5,
   "metadata": {},
   "outputs": [],
   "source": [
    "#initializing the weights and bias(i don;t know how the values were chosen)\n",
    "b_init  =785.1811367994083\n",
    "w_init = np.array([0.39133535, 18.75376741, -53.36032453, -26.42131618])\n"
   ]
  },
  {
   "cell_type": "code",
   "execution_count": null,
   "metadata": {},
   "outputs": [],
   "source": [
    "# predicting values traditionally with the for loop\n",
    "def predict_one_loop(x,w,b):\n",
    "    n = x.shape[0]\n",
    "    p = 0\n",
    "    for i in range(n):\n",
    "        p_i = x[i] * w[i]\n",
    "        p = p +p_i\n",
    "    p = p +b\n",
    "    return p\n"
   ]
  },
  {
   "cell_type": "code",
   "execution_count": null,
   "metadata": {},
   "outputs": [],
   "source": [
    "#predicting a single value with the vector dot function\n",
    "def predict(x,w,b):\n",
    "    p = w.dot(x) + b\n",
    "    return p"
   ]
  },
  {
   "cell_type": "code",
   "execution_count": 19,
   "metadata": {},
   "outputs": [
    {
     "name": "stdout",
     "output_type": "stream",
     "text": [
      "[2104    5    1   45]\n",
      "459.9999976194083\n",
      "459.9999976194083\n"
     ]
    }
   ],
   "source": [
    "x_vec = X_train[0, :]\n",
    "print(x_vec)\n",
    "\n",
    "# make a prediction\n",
    "fwb = predict_one_loop(x_vec,w_init,b_init)\n",
    "print(fwb)\n",
    "\n",
    "fwb2 = predict(x_vec,w_init,b_init)\n",
    "print(fwb2)\n"
   ]
  },
  {
   "cell_type": "code",
   "execution_count": 31,
   "metadata": {},
   "outputs": [],
   "source": [
    "# COST FUNCTION\n",
    "\n",
    "def cost_function(X,y,w,b):\n",
    "    m = X.shape[0]\n",
    "    cost = 0.0\n",
    "    for i in range(m):\n",
    "        fwb_i = np.dot(X[i], w) + b\n",
    "        cost = cost + (fwb_i - y[i])**2\n",
    "    return cost/(2 * m)\n",
    "    \n"
   ]
  },
  {
   "cell_type": "code",
   "execution_count": 33,
   "metadata": {},
   "outputs": [
    {
     "name": "stdout",
     "output_type": "stream",
     "text": [
      "1.5578904045996674e-12\n"
     ]
    }
   ],
   "source": [
    "cost = cost_function(X_train,y_train,w_init,b_init)\n",
    "print(cost)"
   ]
  },
  {
   "cell_type": "code",
   "execution_count": 55,
   "metadata": {},
   "outputs": [],
   "source": [
    "# Compute gradient with multiple variables\n",
    "\n",
    "def compute_gradient (X,y,w,b):\n",
    "  m,n  = X.shape\n",
    "  dj_dw = np.zeros(n)\n",
    "  dj_db = 0\n",
    "  for i in range(m):\n",
    "    err =  (np.dot(X[i], w) + b) - y[i]\n",
    "    for j in range(n):\n",
    "      dj_dw[j] = dj_dw[j] + err * X[i][j]\n",
    "    dj_db = dj_db + err\n",
    "  dj_dw = dj_dw/m\n",
    "  dj_db = dj_db/m  \n",
    "  return dj_db, dj_dw\n"
   ]
  },
  {
   "cell_type": "code",
   "execution_count": 56,
   "metadata": {},
   "outputs": [
    {
     "name": "stdout",
     "output_type": "stream",
     "text": [
      "-1.6739251122999121e-06DJ_DB\n",
      "[-2.72623574e-03 -6.27197255e-06 -2.21745574e-06 -6.92403377e-05]DJ_DW\n"
     ]
    }
   ],
   "source": [
    "# test derivatives\n",
    "\n",
    "tmp_dj_db, tmp_dj_dw = compute_gradient(X_train, y_train, w_init, b_init)\n",
    "\n",
    "print(f'{tmp_dj_db}DJ_DB')\n",
    "print(f'{tmp_dj_dw}DJ_DW')"
   ]
  },
  {
   "cell_type": "code",
   "execution_count": 61,
   "metadata": {},
   "outputs": [],
   "source": [
    "#Gradient Descend\n",
    "\n",
    "def gradient_descend(X,y,w_in,b_in,gradient_function,alpha,num_iters):\n",
    "\n",
    "    w = w_in\n",
    "    b = b_in\n",
    "    for i in range(num_iters):\n",
    "        dj_db, dj_dw = gradient_function(X,y,w,b)\n",
    "        w = w - alpha * dj_dw\n",
    "        b = b - alpha * dj_db\n",
    "    return w,b"
   ]
  },
  {
   "cell_type": "code",
   "execution_count": 62,
   "metadata": {},
   "outputs": [
    {
     "name": "stdout",
     "output_type": "stream",
     "text": [
      "[  0.39133535  18.75376741 -53.36032453 -26.42131618] 785.1811367994089\n"
     ]
    }
   ],
   "source": [
    "alpha = 5.0e-7\n",
    "num_iters = 1000\n",
    "w_final, b_final = gradient_descend(X_train,y_train,w_init,b_init, compute_gradient,alpha, num_iters)\n",
    "\n",
    "print(w_final,b_final)"
   ]
  }
 ],
 "metadata": {
  "kernelspec": {
   "display_name": "mp1_env",
   "language": "python",
   "name": "python3"
  },
  "language_info": {
   "codemirror_mode": {
    "name": "ipython",
    "version": 3
   },
   "file_extension": ".py",
   "mimetype": "text/x-python",
   "name": "python",
   "nbconvert_exporter": "python",
   "pygments_lexer": "ipython3",
   "version": "3.12.3"
  }
 },
 "nbformat": 4,
 "nbformat_minor": 2
}
