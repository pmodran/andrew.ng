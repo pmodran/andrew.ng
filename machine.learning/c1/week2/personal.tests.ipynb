{
 "cells": [
  {
   "cell_type": "code",
   "execution_count": 28,
   "metadata": {},
   "outputs": [
    {
     "name": "stdout",
     "output_type": "stream",
     "text": [
      "NIGGER NIGGER NIGGER NIGGER🇷🇴\n",
      "name 'asd' is not defined\n"
     ]
    },
    {
     "data": {
      "text/plain": [
       "array([ 0,  1,  2,  3,  4,  5,  6,  7,  8,  9, 10, 11, 12, 13, 14, 15, 16,\n",
       "       17, 18, 19])"
      ]
     },
     "execution_count": 28,
     "metadata": {},
     "output_type": "execute_result"
    }
   ],
   "source": [
    "import numpy as np\n",
    "import time \n",
    "\n",
    "a  = np.arange(10000000)\n",
    "a[-1]\n",
    "\n",
    "try:\n",
    "    a[asd]\n",
    "    print(a[-1])\n",
    "except Exception as e:\n",
    "    print('NIGGER NIGGER NIGGER NIGGER🇷🇴')\n",
    "    print(e)\n",
    "\n",
    "x1 = a[:20]  # SLICING [START:STOP:STEP]\n",
    "\n",
    "x1"
   ]
  },
  {
   "cell_type": "code",
   "execution_count": 30,
   "metadata": {},
   "outputs": [],
   "source": [
    "def my_dot(a,b):\n",
    "    x = 0\n",
    "    for i in range(a.shape[0]):\n",
    "       x = x + a[i] * b[i]\n",
    "    return x\n",
    "       "
   ]
  },
  {
   "cell_type": "code",
   "execution_count": 242,
   "metadata": {},
   "outputs": [
    {
     "name": "stdout",
     "output_type": "stream",
     "text": [
      "THIS IS A:----->[0.44236513 0.04997798 0.77390955 ... 0.75330047 0.55914556 0.55274465]\n",
      "THIS IS B:---->[0.92840616 0.47835747 0.39607298 ... 0.8173383  0.57980215 0.74800318]\n",
      "np.dot(a, b) =  2500004.2171\n",
      "Vectorized version duration: 3.6180 ms \n",
      "my_dot(a, b) =  2500004.2171\n",
      "loop version duration: 1100.2469 ms \n"
     ]
    }
   ],
   "source": [
    "#np.random.seed(1)\n",
    "a = np.random.rand(10000000)  # very large arrays\n",
    "print(f'THIS IS A:----->{a}')\n",
    "b = np.random.rand(10000000)\n",
    "print(f'THIS IS B:---->{b}')\n",
    "tic = time.time()  # capture start time\n",
    "c = np.dot(a, b)\n",
    "toc = time.time()  # capture end time\n",
    "\n",
    "print(f\"np.dot(a, b) =  {c:.4f}\")\n",
    "print(f\"Vectorized version duration: {1000*(toc-tic):.4f} ms \")\n",
    "\n",
    "tic = time.time()  # capture start time\n",
    "c = my_dot(a,b)\n",
    "toc = time.time()  # capture end time\n",
    "\n",
    "print(f\"my_dot(a, b) =  {c:.4f}\")\n",
    "print(f\"loop version duration: {1000*(toc-tic):.4f} ms \")\n",
    "\n",
    "del(a);del(b)  #remove these big arrays from memory"
   ]
  },
  {
   "cell_type": "code",
   "execution_count": 237,
   "metadata": {},
   "outputs": [
    {
     "data": {
      "text/plain": [
       "array([0.29222481, 0.98730699, 0.8791066 , 0.39042672, 0.01184493])"
      ]
     },
     "execution_count": 237,
     "metadata": {},
     "output_type": "execute_result"
    }
   ],
   "source": [
    " np.random.seed(9000)\n",
    "a = np.random.rand(5)\n",
    "a"
   ]
  },
  {
   "cell_type": "code",
   "execution_count": null,
   "metadata": {},
   "outputs": [
    {
     "name": "stdout",
     "output_type": "stream",
     "text": [
      "[[     0      1      2 ...     54     55     56]\n",
      " [    57     58     59 ...    111    112    113]\n",
      " [   114    115    116 ...    168    169    170]\n",
      " ...\n",
      " [548796 548797 548798 ... 548850 548851 548852]\n",
      " [548853 548854 548855 ... 548907 548908 548909]\n",
      " [548910 548911 548912 ... 548964 548965 548966]]\n",
      "(9631, 57)\n"
     ]
    }
   ],
   "source": [
    "paul = np.arange(548967).reshape(9631,-1)  # -1 ia in cazul de fata valoarea 57. wildcard\n",
    "print(paul)\n",
    "print(paul.shape)"
   ]
  },
  {
   "cell_type": "code",
   "execution_count": 411,
   "metadata": {},
   "outputs": [
    {
     "name": "stdout",
     "output_type": "stream",
     "text": [
      "[10 11 12 13 14]\n",
      "[[10 11 12 13 14]]\n",
      "[[15 16 17 18 19]\n",
      " [20 21 22 23 24]]\n",
      "(5,)\n",
      "(1, 5)\n",
      "(2, 5)\n"
     ]
    }
   ],
   "source": [
    "a = np.arange(100).reshape(20,-1)\n",
    "b = a[2, 0:5:1]\n",
    "c = a[2:3 , 0:5:1]\n",
    "d = a[3:5,0:5:1]\n",
    "print(b)\n",
    "print(c)\n",
    "print(d)\n",
    "print(b.shape)\n",
    "print(c.shape)\n",
    "print(d.shape)\n"
   ]
  },
  {
   "cell_type": "code",
   "execution_count": 439,
   "metadata": {},
   "outputs": [
    {
     "name": "stdout",
     "output_type": "stream",
     "text": [
      "[[1060 1061 1062 1063 1064 1065]\n",
      " [1260 1261 1262 1263 1264 1265]\n",
      " [1460 1461 1462 1463 1464 1465]\n",
      " [1660 1661 1662 1663 1664 1665]\n",
      " [1860 1861 1862 1863 1864 1865]]\n",
      "(5, 6)\n",
      "SLICE 1 INCOMINGGGGGGGGGGGGGGGGGGG 🫥---------------------\n"
     ]
    }
   ],
   "source": [
    "big_matrix = np.arange(10000).reshape(100,-1)\n",
    "\n",
    "\n",
    "\n",
    "slice1 = big_matrix[10:20:2,60:66:1]\n",
    "print(slice1)\n",
    "print(slice1.shape)\n",
    "print('SLICE 1 INCOMINGGGGGGGGGGGGGGGGGGG 🫥---------------------')"
   ]
  }
 ],
 "metadata": {
  "kernelspec": {
   "display_name": "mp1_env",
   "language": "python",
   "name": "python3"
  },
  "language_info": {
   "codemirror_mode": {
    "name": "ipython",
    "version": 3
   },
   "file_extension": ".py",
   "mimetype": "text/x-python",
   "name": "python",
   "nbconvert_exporter": "python",
   "pygments_lexer": "ipython3",
   "version": "3.12.3"
  }
 },
 "nbformat": 4,
 "nbformat_minor": 2
}
